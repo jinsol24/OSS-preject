{
  "nbformat": 4,
  "nbformat_minor": 0,
  "metadata": {
    "colab": {
      "provenance": [],
      "gpuType": "T4"
    },
    "kernelspec": {
      "name": "python3",
      "display_name": "Python 3"
    },
    "language_info": {
      "name": "python"
    },
    "accelerator": "GPU"
  },
  "cells": [
    {
      "cell_type": "markdown",
      "source": [
        "## 구글 드라이브에서 데이터 불러옴"
      ],
      "metadata": {
        "id": "GgC7s5FAwv1F"
      }
    },
    {
      "cell_type": "code",
      "source": [
        "# 하지 말 것!\n",
        "from google.colab import drive\n",
        "drive.mount('/content/drive')"
      ],
      "metadata": {
        "colab": {
          "base_uri": "https://localhost:8080/"
        },
        "id": "rXSk7vQi3Weq",
        "outputId": "577a8a4c-33ce-4097-a9af-6d967c0e72ba"
      },
      "execution_count": null,
      "outputs": [
        {
          "output_type": "stream",
          "name": "stdout",
          "text": [
            "Mounted at /content/drive\n"
          ]
        }
      ]
    },
    {
      "cell_type": "markdown",
      "source": [
        "# yolov8"
      ],
      "metadata": {
        "id": "OM0oVIU1EM6Y"
      }
    },
    {
      "cell_type": "code",
      "source": [
        "# Pip install method (recommended)\n",
        "\n",
        "!pip install ultralytics==8.0.196"
      ],
      "metadata": {
        "id": "QZkCa4D16g0q",
        "colab": {
          "base_uri": "https://localhost:8080/"
        },
        "outputId": "b3e690d8-980f-49a9-dc8e-a0220ce19074"
      },
      "execution_count": null,
      "outputs": [
        {
          "output_type": "stream",
          "name": "stdout",
          "text": [
            "Collecting ultralytics==8.0.196\n",
            "  Downloading ultralytics-8.0.196-py3-none-any.whl (631 kB)\n",
            "\u001b[?25l     \u001b[90m━━━━━━━━━━━━━━━━━━━━━━━━━━━━━━━━━━━━━━━━\u001b[0m \u001b[32m0.0/631.1 kB\u001b[0m \u001b[31m?\u001b[0m eta \u001b[36m-:--:--\u001b[0m\r\u001b[2K     \u001b[91m━━━━━━━━━━━━━\u001b[0m\u001b[91m╸\u001b[0m\u001b[90m━━━━━━━━━━━━━━━━━━━━━━━━━━\u001b[0m \u001b[32m215.0/631.1 kB\u001b[0m \u001b[31m6.3 MB/s\u001b[0m eta \u001b[36m0:00:01\u001b[0m\r\u001b[2K     \u001b[91m━━━━━━━━━━━━━━━━━━━━━━━━━━━━━━━━━━━━━━━\u001b[0m\u001b[91m╸\u001b[0m \u001b[32m624.6/631.1 kB\u001b[0m \u001b[31m9.8 MB/s\u001b[0m eta \u001b[36m0:00:01\u001b[0m\r\u001b[2K     \u001b[90m━━━━━━━━━━━━━━━━━━━━━━━━━━━━━━━━━━━━━━━━\u001b[0m \u001b[32m631.1/631.1 kB\u001b[0m \u001b[31m8.8 MB/s\u001b[0m eta \u001b[36m0:00:00\u001b[0m\n",
            "\u001b[?25hRequirement already satisfied: matplotlib>=3.3.0 in /usr/local/lib/python3.10/dist-packages (from ultralytics==8.0.196) (3.7.1)\n",
            "Requirement already satisfied: numpy>=1.22.2 in /usr/local/lib/python3.10/dist-packages (from ultralytics==8.0.196) (1.25.2)\n",
            "Requirement already satisfied: opencv-python>=4.6.0 in /usr/local/lib/python3.10/dist-packages (from ultralytics==8.0.196) (4.8.0.76)\n",
            "Requirement already satisfied: pillow>=7.1.2 in /usr/local/lib/python3.10/dist-packages (from ultralytics==8.0.196) (9.4.0)\n",
            "Requirement already satisfied: pyyaml>=5.3.1 in /usr/local/lib/python3.10/dist-packages (from ultralytics==8.0.196) (6.0.1)\n",
            "Requirement already satisfied: requests>=2.23.0 in /usr/local/lib/python3.10/dist-packages (from ultralytics==8.0.196) (2.31.0)\n",
            "Requirement already satisfied: scipy>=1.4.1 in /usr/local/lib/python3.10/dist-packages (from ultralytics==8.0.196) (1.11.4)\n",
            "Requirement already satisfied: torch>=1.8.0 in /usr/local/lib/python3.10/dist-packages (from ultralytics==8.0.196) (2.3.0+cu121)\n",
            "Requirement already satisfied: torchvision>=0.9.0 in /usr/local/lib/python3.10/dist-packages (from ultralytics==8.0.196) (0.18.0+cu121)\n",
            "Requirement already satisfied: tqdm>=4.64.0 in /usr/local/lib/python3.10/dist-packages (from ultralytics==8.0.196) (4.66.4)\n",
            "Requirement already satisfied: pandas>=1.1.4 in /usr/local/lib/python3.10/dist-packages (from ultralytics==8.0.196) (2.0.3)\n",
            "Requirement already satisfied: seaborn>=0.11.0 in /usr/local/lib/python3.10/dist-packages (from ultralytics==8.0.196) (0.13.1)\n",
            "Requirement already satisfied: psutil in /usr/local/lib/python3.10/dist-packages (from ultralytics==8.0.196) (5.9.5)\n",
            "Requirement already satisfied: py-cpuinfo in /usr/local/lib/python3.10/dist-packages (from ultralytics==8.0.196) (9.0.0)\n",
            "Collecting thop>=0.1.1 (from ultralytics==8.0.196)\n",
            "  Downloading thop-0.1.1.post2209072238-py3-none-any.whl (15 kB)\n",
            "Requirement already satisfied: contourpy>=1.0.1 in /usr/local/lib/python3.10/dist-packages (from matplotlib>=3.3.0->ultralytics==8.0.196) (1.2.1)\n",
            "Requirement already satisfied: cycler>=0.10 in /usr/local/lib/python3.10/dist-packages (from matplotlib>=3.3.0->ultralytics==8.0.196) (0.12.1)\n",
            "Requirement already satisfied: fonttools>=4.22.0 in /usr/local/lib/python3.10/dist-packages (from matplotlib>=3.3.0->ultralytics==8.0.196) (4.53.0)\n",
            "Requirement already satisfied: kiwisolver>=1.0.1 in /usr/local/lib/python3.10/dist-packages (from matplotlib>=3.3.0->ultralytics==8.0.196) (1.4.5)\n",
            "Requirement already satisfied: packaging>=20.0 in /usr/local/lib/python3.10/dist-packages (from matplotlib>=3.3.0->ultralytics==8.0.196) (24.1)\n",
            "Requirement already satisfied: pyparsing>=2.3.1 in /usr/local/lib/python3.10/dist-packages (from matplotlib>=3.3.0->ultralytics==8.0.196) (3.1.2)\n",
            "Requirement already satisfied: python-dateutil>=2.7 in /usr/local/lib/python3.10/dist-packages (from matplotlib>=3.3.0->ultralytics==8.0.196) (2.8.2)\n",
            "Requirement already satisfied: pytz>=2020.1 in /usr/local/lib/python3.10/dist-packages (from pandas>=1.1.4->ultralytics==8.0.196) (2023.4)\n",
            "Requirement already satisfied: tzdata>=2022.1 in /usr/local/lib/python3.10/dist-packages (from pandas>=1.1.4->ultralytics==8.0.196) (2024.1)\n",
            "Requirement already satisfied: charset-normalizer<4,>=2 in /usr/local/lib/python3.10/dist-packages (from requests>=2.23.0->ultralytics==8.0.196) (3.3.2)\n",
            "Requirement already satisfied: idna<4,>=2.5 in /usr/local/lib/python3.10/dist-packages (from requests>=2.23.0->ultralytics==8.0.196) (3.7)\n",
            "Requirement already satisfied: urllib3<3,>=1.21.1 in /usr/local/lib/python3.10/dist-packages (from requests>=2.23.0->ultralytics==8.0.196) (2.0.7)\n",
            "Requirement already satisfied: certifi>=2017.4.17 in /usr/local/lib/python3.10/dist-packages (from requests>=2.23.0->ultralytics==8.0.196) (2024.6.2)\n",
            "Requirement already satisfied: filelock in /usr/local/lib/python3.10/dist-packages (from torch>=1.8.0->ultralytics==8.0.196) (3.14.0)\n",
            "Requirement already satisfied: typing-extensions>=4.8.0 in /usr/local/lib/python3.10/dist-packages (from torch>=1.8.0->ultralytics==8.0.196) (4.12.2)\n",
            "Requirement already satisfied: sympy in /usr/local/lib/python3.10/dist-packages (from torch>=1.8.0->ultralytics==8.0.196) (1.12.1)\n",
            "Requirement already satisfied: networkx in /usr/local/lib/python3.10/dist-packages (from torch>=1.8.0->ultralytics==8.0.196) (3.3)\n",
            "Requirement already satisfied: jinja2 in /usr/local/lib/python3.10/dist-packages (from torch>=1.8.0->ultralytics==8.0.196) (3.1.4)\n",
            "Requirement already satisfied: fsspec in /usr/local/lib/python3.10/dist-packages (from torch>=1.8.0->ultralytics==8.0.196) (2023.6.0)\n",
            "Collecting nvidia-cuda-nvrtc-cu12==12.1.105 (from torch>=1.8.0->ultralytics==8.0.196)\n",
            "  Using cached nvidia_cuda_nvrtc_cu12-12.1.105-py3-none-manylinux1_x86_64.whl (23.7 MB)\n",
            "Collecting nvidia-cuda-runtime-cu12==12.1.105 (from torch>=1.8.0->ultralytics==8.0.196)\n",
            "  Using cached nvidia_cuda_runtime_cu12-12.1.105-py3-none-manylinux1_x86_64.whl (823 kB)\n",
            "Collecting nvidia-cuda-cupti-cu12==12.1.105 (from torch>=1.8.0->ultralytics==8.0.196)\n",
            "  Using cached nvidia_cuda_cupti_cu12-12.1.105-py3-none-manylinux1_x86_64.whl (14.1 MB)\n",
            "Collecting nvidia-cudnn-cu12==8.9.2.26 (from torch>=1.8.0->ultralytics==8.0.196)\n",
            "  Using cached nvidia_cudnn_cu12-8.9.2.26-py3-none-manylinux1_x86_64.whl (731.7 MB)\n",
            "Collecting nvidia-cublas-cu12==12.1.3.1 (from torch>=1.8.0->ultralytics==8.0.196)\n",
            "  Using cached nvidia_cublas_cu12-12.1.3.1-py3-none-manylinux1_x86_64.whl (410.6 MB)\n",
            "Collecting nvidia-cufft-cu12==11.0.2.54 (from torch>=1.8.0->ultralytics==8.0.196)\n",
            "  Using cached nvidia_cufft_cu12-11.0.2.54-py3-none-manylinux1_x86_64.whl (121.6 MB)\n",
            "Collecting nvidia-curand-cu12==10.3.2.106 (from torch>=1.8.0->ultralytics==8.0.196)\n",
            "  Using cached nvidia_curand_cu12-10.3.2.106-py3-none-manylinux1_x86_64.whl (56.5 MB)\n",
            "Collecting nvidia-cusolver-cu12==11.4.5.107 (from torch>=1.8.0->ultralytics==8.0.196)\n",
            "  Using cached nvidia_cusolver_cu12-11.4.5.107-py3-none-manylinux1_x86_64.whl (124.2 MB)\n",
            "Collecting nvidia-cusparse-cu12==12.1.0.106 (from torch>=1.8.0->ultralytics==8.0.196)\n",
            "  Using cached nvidia_cusparse_cu12-12.1.0.106-py3-none-manylinux1_x86_64.whl (196.0 MB)\n",
            "Collecting nvidia-nccl-cu12==2.20.5 (from torch>=1.8.0->ultralytics==8.0.196)\n",
            "  Using cached nvidia_nccl_cu12-2.20.5-py3-none-manylinux2014_x86_64.whl (176.2 MB)\n",
            "Collecting nvidia-nvtx-cu12==12.1.105 (from torch>=1.8.0->ultralytics==8.0.196)\n",
            "  Using cached nvidia_nvtx_cu12-12.1.105-py3-none-manylinux1_x86_64.whl (99 kB)\n",
            "Requirement already satisfied: triton==2.3.0 in /usr/local/lib/python3.10/dist-packages (from torch>=1.8.0->ultralytics==8.0.196) (2.3.0)\n",
            "Collecting nvidia-nvjitlink-cu12 (from nvidia-cusolver-cu12==11.4.5.107->torch>=1.8.0->ultralytics==8.0.196)\n",
            "  Downloading nvidia_nvjitlink_cu12-12.5.40-py3-none-manylinux2014_x86_64.whl (21.3 MB)\n",
            "\u001b[2K     \u001b[90m━━━━━━━━━━━━━━━━━━━━━━━━━━━━━━━━━━━━━━━━\u001b[0m \u001b[32m21.3/21.3 MB\u001b[0m \u001b[31m71.2 MB/s\u001b[0m eta \u001b[36m0:00:00\u001b[0m\n",
            "\u001b[?25hRequirement already satisfied: six>=1.5 in /usr/local/lib/python3.10/dist-packages (from python-dateutil>=2.7->matplotlib>=3.3.0->ultralytics==8.0.196) (1.16.0)\n",
            "Requirement already satisfied: MarkupSafe>=2.0 in /usr/local/lib/python3.10/dist-packages (from jinja2->torch>=1.8.0->ultralytics==8.0.196) (2.1.5)\n",
            "Requirement already satisfied: mpmath<1.4.0,>=1.1.0 in /usr/local/lib/python3.10/dist-packages (from sympy->torch>=1.8.0->ultralytics==8.0.196) (1.3.0)\n",
            "Installing collected packages: nvidia-nvtx-cu12, nvidia-nvjitlink-cu12, nvidia-nccl-cu12, nvidia-curand-cu12, nvidia-cufft-cu12, nvidia-cuda-runtime-cu12, nvidia-cuda-nvrtc-cu12, nvidia-cuda-cupti-cu12, nvidia-cublas-cu12, nvidia-cusparse-cu12, nvidia-cudnn-cu12, nvidia-cusolver-cu12, thop, ultralytics\n",
            "Successfully installed nvidia-cublas-cu12-12.1.3.1 nvidia-cuda-cupti-cu12-12.1.105 nvidia-cuda-nvrtc-cu12-12.1.105 nvidia-cuda-runtime-cu12-12.1.105 nvidia-cudnn-cu12-8.9.2.26 nvidia-cufft-cu12-11.0.2.54 nvidia-curand-cu12-10.3.2.106 nvidia-cusolver-cu12-11.4.5.107 nvidia-cusparse-cu12-12.1.0.106 nvidia-nccl-cu12-2.20.5 nvidia-nvjitlink-cu12-12.5.40 nvidia-nvtx-cu12-12.1.105 thop-0.1.1.post2209072238 ultralytics-8.0.196\n"
          ]
        }
      ]
    },
    {
      "cell_type": "code",
      "source": [
        "from IPython import display\n",
        "display.clear_output()\n",
        "\n",
        "import ultralytics\n",
        "ultralytics.checks()"
      ],
      "metadata": {
        "colab": {
          "base_uri": "https://localhost:8080/"
        },
        "id": "CxonzwxlEXUK",
        "outputId": "56e84695-de4b-405a-88a1-0fc6d56f3ce2"
      },
      "execution_count": null,
      "outputs": [
        {
          "output_type": "stream",
          "name": "stderr",
          "text": [
            "Ultralytics YOLOv8.0.196 🚀 Python-3.10.12 torch-2.3.0+cu121 CUDA:0 (Tesla T4, 15102MiB)\n",
            "Setup complete ✅ (2 CPUs, 12.7 GB RAM, 30.2/78.2 GB disk)\n"
          ]
        }
      ]
    },
    {
      "cell_type": "code",
      "source": [
        "%cd /content/drive/MyDrive/oss_final_project/oss_final_project2"
      ],
      "metadata": {
        "colab": {
          "base_uri": "https://localhost:8080/"
        },
        "id": "spXWXMUgEeJi",
        "outputId": "4923040d-3133-40aa-caf1-052e36ebf63b"
      },
      "execution_count": null,
      "outputs": [
        {
          "output_type": "stream",
          "name": "stdout",
          "text": [
            "/content/drive/MyDrive/oss_final_project/oss_final_project2\n"
          ]
        }
      ]
    },
    {
      "cell_type": "code",
      "source": [
        "%pwd"
      ],
      "metadata": {
        "colab": {
          "base_uri": "https://localhost:8080/",
          "height": 35
        },
        "id": "dL-TTE5_EuuV",
        "outputId": "053a0e99-19be-4aee-e091-4fc6a8e99b39"
      },
      "execution_count": null,
      "outputs": [
        {
          "output_type": "execute_result",
          "data": {
            "text/plain": [
              "'/content/drive/MyDrive/oss_final_project/oss_final_project2'"
            ],
            "application/vnd.google.colaboratory.intrinsic+json": {
              "type": "string"
            }
          },
          "metadata": {},
          "execution_count": 5
        }
      ]
    },
    {
      "cell_type": "code",
      "source": [
        "from ultralytics import YOLO\n",
        "\n",
        "from IPython.display import display, Image"
      ],
      "metadata": {
        "id": "ACL4T9JdEakS"
      },
      "execution_count": null,
      "outputs": []
    },
    {
      "cell_type": "code",
      "source": [
        "model = YOLO(f'./yolov8n.pt')"
      ],
      "metadata": {
        "colab": {
          "base_uri": "https://localhost:8080/"
        },
        "id": "SaxgK01TEhe8",
        "outputId": "7897b605-51ca-42c9-d6e2-d84e61b13295"
      },
      "execution_count": null,
      "outputs": [
        {
          "output_type": "stream",
          "name": "stderr",
          "text": [
            "Downloading https://github.com/ultralytics/assets/releases/download/v0.0.0/yolov8n.pt to 'yolov8n.pt'...\n",
            "100%|██████████| 6.23M/6.23M [00:00<00:00, 89.9MB/s]\n"
          ]
        }
      ]
    },
    {
      "cell_type": "markdown",
      "source": [
        "#### Train"
      ],
      "metadata": {
        "id": "EqpxzlbMAXd7"
      }
    },
    {
      "cell_type": "code",
      "source": [
        "#%cd C:\\Users\\solso\\ossProject\n",
        "\n",
        "!yolo task=detect mode=train model=yolov8s.pt data=./data.yaml epochs=25 imgsz=800 plots=True"
      ],
      "metadata": {
        "colab": {
          "base_uri": "https://localhost:8080/"
        },
        "id": "jgYq37J9EiFl",
        "outputId": "cb740328-6767-41d2-acee-2301039a69ae"
      },
      "execution_count": null,
      "outputs": [
        {
          "output_type": "stream",
          "name": "stdout",
          "text": [
            "Downloading https://github.com/ultralytics/assets/releases/download/v0.0.0/yolov8s.pt to 'yolov8s.pt'...\n",
            "100% 21.5M/21.5M [00:00<00:00, 179MB/s]\n",
            "New https://pypi.org/project/ultralytics/8.2.32 available 😃 Update with 'pip install -U ultralytics'\n",
            "Ultralytics YOLOv8.0.196 🚀 Python-3.10.12 torch-2.3.0+cu121 CUDA:0 (Tesla T4, 15102MiB)\n",
            "\u001b[34m\u001b[1mengine/trainer: \u001b[0mtask=detect, mode=train, model=yolov8s.pt, data=./data.yaml, epochs=25, patience=50, batch=16, imgsz=800, save=True, save_period=-1, cache=False, device=None, workers=8, project=None, name=None, exist_ok=False, pretrained=True, optimizer=auto, verbose=True, seed=0, deterministic=True, single_cls=False, rect=False, cos_lr=False, close_mosaic=10, resume=False, amp=True, fraction=1.0, profile=False, freeze=None, overlap_mask=True, mask_ratio=4, dropout=0.0, val=True, split=val, save_json=False, save_hybrid=False, conf=None, iou=0.7, max_det=300, half=False, dnn=False, plots=True, source=None, show=False, save_txt=False, save_conf=False, save_crop=False, show_labels=True, show_conf=True, vid_stride=1, stream_buffer=False, line_width=None, visualize=False, augment=False, agnostic_nms=False, classes=None, retina_masks=False, boxes=True, format=torchscript, keras=False, optimize=False, int8=False, dynamic=False, simplify=False, opset=None, workspace=4, nms=False, lr0=0.01, lrf=0.01, momentum=0.937, weight_decay=0.0005, warmup_epochs=3.0, warmup_momentum=0.8, warmup_bias_lr=0.1, box=7.5, cls=0.5, dfl=1.5, pose=12.0, kobj=1.0, label_smoothing=0.0, nbs=64, hsv_h=0.015, hsv_s=0.7, hsv_v=0.4, degrees=0.0, translate=0.1, scale=0.5, shear=0.0, perspective=0.0, flipud=0.0, fliplr=0.5, mosaic=1.0, mixup=0.0, copy_paste=0.0, cfg=None, tracker=botsort.yaml, save_dir=runs/detect/train\n",
            "2024-06-16 14:33:38.807674: E external/local_xla/xla/stream_executor/cuda/cuda_dnn.cc:9261] Unable to register cuDNN factory: Attempting to register factory for plugin cuDNN when one has already been registered\n",
            "2024-06-16 14:33:38.807737: E external/local_xla/xla/stream_executor/cuda/cuda_fft.cc:607] Unable to register cuFFT factory: Attempting to register factory for plugin cuFFT when one has already been registered\n",
            "2024-06-16 14:33:38.809013: E external/local_xla/xla/stream_executor/cuda/cuda_blas.cc:1515] Unable to register cuBLAS factory: Attempting to register factory for plugin cuBLAS when one has already been registered\n",
            "Overriding model.yaml nc=80 with nc=29\n",
            "\n",
            "                   from  n    params  module                                       arguments                     \n",
            "  0                  -1  1       928  ultralytics.nn.modules.conv.Conv             [3, 32, 3, 2]                 \n",
            "  1                  -1  1     18560  ultralytics.nn.modules.conv.Conv             [32, 64, 3, 2]                \n",
            "  2                  -1  1     29056  ultralytics.nn.modules.block.C2f             [64, 64, 1, True]             \n",
            "  3                  -1  1     73984  ultralytics.nn.modules.conv.Conv             [64, 128, 3, 2]               \n",
            "  4                  -1  2    197632  ultralytics.nn.modules.block.C2f             [128, 128, 2, True]           \n",
            "  5                  -1  1    295424  ultralytics.nn.modules.conv.Conv             [128, 256, 3, 2]              \n",
            "  6                  -1  2    788480  ultralytics.nn.modules.block.C2f             [256, 256, 2, True]           \n",
            "  7                  -1  1   1180672  ultralytics.nn.modules.conv.Conv             [256, 512, 3, 2]              \n",
            "  8                  -1  1   1838080  ultralytics.nn.modules.block.C2f             [512, 512, 1, True]           \n",
            "  9                  -1  1    656896  ultralytics.nn.modules.block.SPPF            [512, 512, 5]                 \n",
            " 10                  -1  1         0  torch.nn.modules.upsampling.Upsample         [None, 2, 'nearest']          \n",
            " 11             [-1, 6]  1         0  ultralytics.nn.modules.conv.Concat           [1]                           \n",
            " 12                  -1  1    591360  ultralytics.nn.modules.block.C2f             [768, 256, 1]                 \n",
            " 13                  -1  1         0  torch.nn.modules.upsampling.Upsample         [None, 2, 'nearest']          \n",
            " 14             [-1, 4]  1         0  ultralytics.nn.modules.conv.Concat           [1]                           \n",
            " 15                  -1  1    148224  ultralytics.nn.modules.block.C2f             [384, 128, 1]                 \n",
            " 16                  -1  1    147712  ultralytics.nn.modules.conv.Conv             [128, 128, 3, 2]              \n",
            " 17            [-1, 12]  1         0  ultralytics.nn.modules.conv.Concat           [1]                           \n",
            " 18                  -1  1    493056  ultralytics.nn.modules.block.C2f             [384, 256, 1]                 \n",
            " 19                  -1  1    590336  ultralytics.nn.modules.conv.Conv             [256, 256, 3, 2]              \n",
            " 20             [-1, 9]  1         0  ultralytics.nn.modules.conv.Concat           [1]                           \n",
            " 21                  -1  1   1969152  ultralytics.nn.modules.block.C2f             [768, 512, 1]                 \n",
            " 22        [15, 18, 21]  1   2127271  ultralytics.nn.modules.head.Detect           [29, [128, 256, 512]]         \n",
            "Model summary: 225 layers, 11146823 parameters, 11146807 gradients, 28.7 GFLOPs\n",
            "\n",
            "Transferred 349/355 items from pretrained weights\n",
            "\u001b[34m\u001b[1mTensorBoard: \u001b[0mStart with 'tensorboard --logdir runs/detect/train', view at http://localhost:6006/\n",
            "Freezing layer 'model.22.dfl.conv.weight'\n",
            "\u001b[34m\u001b[1mAMP: \u001b[0mrunning Automatic Mixed Precision (AMP) checks with YOLOv8n...\n",
            "/usr/local/lib/python3.10/dist-packages/torch/nn/modules/conv.py:456: UserWarning: Plan failed with a cudnnException: CUDNN_BACKEND_EXECUTION_PLAN_DESCRIPTOR: cudnnFinalize Descriptor Failed cudnn_status: CUDNN_STATUS_NOT_SUPPORTED (Triggered internally at ../aten/src/ATen/native/cudnn/Conv_v8.cpp:919.)\n",
            "  return F.conv2d(input, weight, bias, self.stride,\n",
            "WARNING ⚠️ NMS time limit 0.550s exceeded\n",
            "\u001b[34m\u001b[1mAMP: \u001b[0mchecks passed ✅\n",
            "\u001b[34m\u001b[1mtrain: \u001b[0mScanning /content/drive/MyDrive/oss_final_project/oss_final_project2/my_data/train/labels... 4196 images, 0 backgrounds, 0 corrupt: 100% 4196/4196 [24:35<00:00,  2.84it/s]\n",
            "\u001b[34m\u001b[1mtrain: \u001b[0mWARNING ⚠️ /content/drive/MyDrive/oss_final_project/oss_final_project2/my_data/train/images/MP_SEL_000231.jpg: 1 duplicate labels removed\n",
            "\u001b[34m\u001b[1mtrain: \u001b[0mWARNING ⚠️ /content/drive/MyDrive/oss_final_project/oss_final_project2/my_data/train/images/MP_SEL_001512.jpg: 1 duplicate labels removed\n",
            "\u001b[34m\u001b[1mtrain: \u001b[0mNew cache created: /content/drive/MyDrive/oss_final_project/oss_final_project2/my_data/train/labels.cache\n",
            "\u001b[34m\u001b[1malbumentations: \u001b[0mBlur(p=0.01, blur_limit=(3, 7)), MedianBlur(p=0.01, blur_limit=(3, 7)), ToGray(p=0.01), CLAHE(p=0.01, clip_limit=(1, 4.0), tile_grid_size=(8, 8))\n",
            "/usr/lib/python3.10/multiprocessing/popen_fork.py:66: RuntimeWarning: os.fork() was called. os.fork() is incompatible with multithreaded code, and JAX is multithreaded, so this will likely lead to a deadlock.\n",
            "  self.pid = os.fork()\n",
            "\u001b[34m\u001b[1mval: \u001b[0mScanning /content/drive/MyDrive/oss_final_project/oss_final_project2/my_data/val/labels... 42 images, 0 backgrounds, 0 corrupt: 100% 42/42 [00:34<00:00,  1.21it/s]\n",
            "\u001b[34m\u001b[1mval: \u001b[0mNew cache created: /content/drive/MyDrive/oss_final_project/oss_final_project2/my_data/val/labels.cache\n",
            "Plotting labels to runs/detect/train/labels.jpg... \n",
            "\u001b[34m\u001b[1moptimizer:\u001b[0m 'optimizer=auto' found, ignoring 'lr0=0.01' and 'momentum=0.937' and determining best 'optimizer', 'lr0' and 'momentum' automatically... \n",
            "\u001b[34m\u001b[1moptimizer:\u001b[0m AdamW(lr=0.000303, momentum=0.9) with parameter groups 57 weight(decay=0.0), 64 weight(decay=0.0005), 63 bias(decay=0.0)\n",
            "Image sizes 800 train, 800 val\n",
            "Using 2 dataloader workers\n",
            "Logging results to \u001b[1mruns/detect/train\u001b[0m\n",
            "Starting training for 25 epochs...\n",
            "\n",
            "      Epoch    GPU_mem   box_loss   cls_loss   dfl_loss  Instances       Size\n",
            "       1/25      6.51G      1.474      2.335       1.23        284        800: 100% 262/263 [04:52<00:01,  1.27s/it]/usr/local/lib/python3.10/dist-packages/torch/nn/modules/conv.py:456: UserWarning: Plan failed with a cudnnException: CUDNN_BACKEND_EXECUTION_PLAN_DESCRIPTOR: cudnnFinalize Descriptor Failed cudnn_status: CUDNN_STATUS_NOT_SUPPORTED (Triggered internally at ../aten/src/ATen/native/cudnn/Conv_v8.cpp:919.)\n",
            "  return F.conv2d(input, weight, bias, self.stride,\n",
            "       1/25      6.51G      1.473      2.331       1.23         76        800: 100% 263/263 [04:54<00:00,  1.12s/it]\n",
            "                 Class     Images  Instances      Box(P          R      mAP50  mAP50-95): 100% 2/2 [00:03<00:00,  1.81s/it]\n",
            "                   all         42        472      0.652      0.368      0.442      0.274\n",
            "\n",
            "      Epoch    GPU_mem   box_loss   cls_loss   dfl_loss  Instances       Size\n",
            "       2/25       7.1G      1.361      1.319      1.163         93        800: 100% 263/263 [04:48<00:00,  1.10s/it]\n",
            "                 Class     Images  Instances      Box(P          R      mAP50  mAP50-95): 100% 2/2 [00:00<00:00,  2.06it/s]\n",
            "                   all         42        472      0.559      0.441      0.494      0.319\n",
            "\n",
            "      Epoch    GPU_mem   box_loss   cls_loss   dfl_loss  Instances       Size\n",
            "       3/25      6.61G      1.365      1.235      1.165         77        800: 100% 263/263 [04:46<00:00,  1.09s/it]\n",
            "                 Class     Images  Instances      Box(P          R      mAP50  mAP50-95): 100% 2/2 [00:00<00:00,  2.17it/s]\n",
            "                   all         42        472      0.526       0.47      0.493      0.293\n",
            "\n",
            "      Epoch    GPU_mem   box_loss   cls_loss   dfl_loss  Instances       Size\n",
            "       4/25       6.9G      1.346      1.191      1.157         41        800: 100% 263/263 [04:47<00:00,  1.09s/it]\n",
            "                 Class     Images  Instances      Box(P          R      mAP50  mAP50-95): 100% 2/2 [00:00<00:00,  2.28it/s]\n",
            "                   all         42        472      0.624      0.509      0.552      0.325\n",
            "\n",
            "      Epoch    GPU_mem   box_loss   cls_loss   dfl_loss  Instances       Size\n",
            "       5/25      6.64G      1.324      1.141      1.141         27        800: 100% 263/263 [04:48<00:00,  1.10s/it]\n",
            "                 Class     Images  Instances      Box(P          R      mAP50  mAP50-95): 100% 2/2 [00:01<00:00,  1.40it/s]\n",
            "                   all         42        472      0.534      0.487      0.518      0.276\n",
            "\n",
            "      Epoch    GPU_mem   box_loss   cls_loss   dfl_loss  Instances       Size\n",
            "       6/25      6.92G      1.305      1.099      1.133         96        800: 100% 263/263 [04:48<00:00,  1.10s/it]\n",
            "                 Class     Images  Instances      Box(P          R      mAP50  mAP50-95): 100% 2/2 [00:00<00:00,  2.37it/s]\n",
            "                   all         42        472      0.685      0.463      0.516      0.313\n",
            "\n",
            "      Epoch    GPU_mem   box_loss   cls_loss   dfl_loss  Instances       Size\n",
            "       7/25      6.93G       1.29      1.066      1.122         66        800: 100% 263/263 [04:45<00:00,  1.09s/it]\n",
            "                 Class     Images  Instances      Box(P          R      mAP50  mAP50-95): 100% 2/2 [00:00<00:00,  2.08it/s]\n",
            "                   all         42        472        0.7      0.449      0.561      0.337\n",
            "\n",
            "      Epoch    GPU_mem   box_loss   cls_loss   dfl_loss  Instances       Size\n",
            "       8/25      6.66G      1.277      1.036      1.114         99        800: 100% 263/263 [04:47<00:00,  1.09s/it]\n",
            "                 Class     Images  Instances      Box(P          R      mAP50  mAP50-95): 100% 2/2 [00:00<00:00,  2.45it/s]\n",
            "                   all         42        472      0.526      0.576      0.568      0.343\n",
            "\n",
            "      Epoch    GPU_mem   box_loss   cls_loss   dfl_loss  Instances       Size\n",
            "       9/25      6.91G      1.267      1.023      1.107         69        800: 100% 263/263 [04:45<00:00,  1.09s/it]\n",
            "                 Class     Images  Instances      Box(P          R      mAP50  mAP50-95): 100% 2/2 [00:01<00:00,  1.45it/s]\n",
            "                   all         42        472      0.548      0.542      0.533      0.326\n",
            "\n",
            "      Epoch    GPU_mem   box_loss   cls_loss   dfl_loss  Instances       Size\n",
            "      10/25      7.02G      1.251      1.006      1.105         68        800: 100% 263/263 [04:47<00:00,  1.09s/it]\n",
            "                 Class     Images  Instances      Box(P          R      mAP50  mAP50-95): 100% 2/2 [00:00<00:00,  2.19it/s]\n",
            "                   all         42        472      0.585      0.656      0.586      0.339\n",
            "\n",
            "      Epoch    GPU_mem   box_loss   cls_loss   dfl_loss  Instances       Size\n",
            "      11/25      7.03G      1.235     0.9848      1.097         61        800: 100% 263/263 [04:47<00:00,  1.09s/it]\n",
            "                 Class     Images  Instances      Box(P          R      mAP50  mAP50-95): 100% 2/2 [00:01<00:00,  1.76it/s]\n",
            "                   all         42        472      0.568      0.606        0.6      0.345\n",
            "\n",
            "      Epoch    GPU_mem   box_loss   cls_loss   dfl_loss  Instances       Size\n",
            "      12/25      6.98G      1.225     0.9656      1.091         66        800: 100% 263/263 [04:49<00:00,  1.10s/it]\n",
            "                 Class     Images  Instances      Box(P          R      mAP50  mAP50-95): 100% 2/2 [00:00<00:00,  2.15it/s]\n",
            "                   all         42        472      0.754      0.487      0.617      0.358\n",
            "\n",
            "      Epoch    GPU_mem   box_loss   cls_loss   dfl_loss  Instances       Size\n",
            "      13/25      6.51G       1.22     0.9499      1.083         80        800: 100% 263/263 [04:48<00:00,  1.10s/it]\n",
            "                 Class     Images  Instances      Box(P          R      mAP50  mAP50-95): 100% 2/2 [00:00<00:00,  2.79it/s]\n",
            "                   all         42        472      0.768      0.548      0.626      0.362\n",
            "\n",
            "      Epoch    GPU_mem   box_loss   cls_loss   dfl_loss  Instances       Size\n",
            "      14/25      6.64G      1.206     0.9302      1.075         35        800: 100% 263/263 [04:49<00:00,  1.10s/it]\n",
            "                 Class     Images  Instances      Box(P          R      mAP50  mAP50-95): 100% 2/2 [00:01<00:00,  1.49it/s]\n",
            "                   all         42        472      0.651      0.576      0.666      0.394\n",
            "\n",
            "      Epoch    GPU_mem   box_loss   cls_loss   dfl_loss  Instances       Size\n",
            "      15/25      6.87G      1.189     0.9096      1.068         50        800: 100% 263/263 [04:46<00:00,  1.09s/it]\n",
            "                 Class     Images  Instances      Box(P          R      mAP50  mAP50-95): 100% 2/2 [00:00<00:00,  2.47it/s]\n",
            "                   all         42        472       0.74      0.572      0.636      0.389\n",
            "Closing dataloader mosaic\n",
            "\u001b[34m\u001b[1malbumentations: \u001b[0mBlur(p=0.01, blur_limit=(3, 7)), MedianBlur(p=0.01, blur_limit=(3, 7)), ToGray(p=0.01), CLAHE(p=0.01, clip_limit=(1, 4.0), tile_grid_size=(8, 8))\n",
            "/usr/lib/python3.10/multiprocessing/popen_fork.py:66: RuntimeWarning: os.fork() was called. os.fork() is incompatible with multithreaded code, and JAX is multithreaded, so this will likely lead to a deadlock.\n",
            "  self.pid = os.fork()\n",
            "\n",
            "      Epoch    GPU_mem   box_loss   cls_loss   dfl_loss  Instances       Size\n",
            "      16/25      6.61G      1.188     0.8888      1.074         56        800: 100% 263/263 [04:41<00:00,  1.07s/it]\n",
            "                 Class     Images  Instances      Box(P          R      mAP50  mAP50-95): 100% 2/2 [00:00<00:00,  2.57it/s]\n",
            "                   all         42        472      0.638      0.584      0.622      0.386\n",
            "\n",
            "      Epoch    GPU_mem   box_loss   cls_loss   dfl_loss  Instances       Size\n",
            "      17/25      6.34G      1.171     0.8602      1.066         44        800: 100% 263/263 [04:39<00:00,  1.06s/it]\n",
            "                 Class     Images  Instances      Box(P          R      mAP50  mAP50-95): 100% 2/2 [00:00<00:00,  2.42it/s]\n",
            "                   all         42        472       0.63      0.577      0.634      0.393\n",
            "\n",
            "      Epoch    GPU_mem   box_loss   cls_loss   dfl_loss  Instances       Size\n",
            "      18/25      6.59G      1.154     0.8472      1.058         37        800: 100% 263/263 [04:45<00:00,  1.09s/it]\n",
            "                 Class     Images  Instances      Box(P          R      mAP50  mAP50-95): 100% 2/2 [00:00<00:00,  2.63it/s]\n",
            "                   all         42        472      0.735      0.533       0.59      0.361\n",
            "\n",
            "      Epoch    GPU_mem   box_loss   cls_loss   dfl_loss  Instances       Size\n",
            "      19/25      6.59G      1.145     0.8276      1.052         44        800: 100% 263/263 [04:47<00:00,  1.09s/it]\n",
            "                 Class     Images  Instances      Box(P          R      mAP50  mAP50-95): 100% 2/2 [00:00<00:00,  2.59it/s]\n",
            "                   all         42        472      0.635      0.601      0.603      0.351\n",
            "\n",
            "      Epoch    GPU_mem   box_loss   cls_loss   dfl_loss  Instances       Size\n",
            "      20/25      6.64G       1.13      0.814       1.05         30        800: 100% 263/263 [04:38<00:00,  1.06s/it]\n",
            "                 Class     Images  Instances      Box(P          R      mAP50  mAP50-95): 100% 2/2 [00:00<00:00,  2.41it/s]\n",
            "                   all         42        472      0.763      0.543      0.622      0.363\n",
            "\n",
            "      Epoch    GPU_mem   box_loss   cls_loss   dfl_loss  Instances       Size\n",
            "      21/25      6.62G      1.126     0.7987      1.039         36        800: 100% 263/263 [04:38<00:00,  1.06s/it]\n",
            "                 Class     Images  Instances      Box(P          R      mAP50  mAP50-95): 100% 2/2 [00:00<00:00,  2.47it/s]\n",
            "                   all         42        472      0.697       0.54      0.591      0.368\n",
            "\n",
            "      Epoch    GPU_mem   box_loss   cls_loss   dfl_loss  Instances       Size\n",
            "      22/25      6.65G      1.112     0.7859      1.037         31        800: 100% 263/263 [04:37<00:00,  1.05s/it]\n",
            "                 Class     Images  Instances      Box(P          R      mAP50  mAP50-95): 100% 2/2 [00:00<00:00,  2.75it/s]\n",
            "                   all         42        472      0.704      0.584      0.636       0.38\n",
            "\n",
            "      Epoch    GPU_mem   box_loss   cls_loss   dfl_loss  Instances       Size\n",
            "      23/25      6.58G      1.102     0.7739      1.031         62        800: 100% 263/263 [04:39<00:00,  1.06s/it]\n",
            "                 Class     Images  Instances      Box(P          R      mAP50  mAP50-95): 100% 2/2 [00:00<00:00,  2.23it/s]\n",
            "                   all         42        472      0.634      0.603      0.607      0.396\n",
            "\n",
            "      Epoch    GPU_mem   box_loss   cls_loss   dfl_loss  Instances       Size\n",
            "      24/25      6.39G      1.095     0.7654      1.026         45        800: 100% 263/263 [04:37<00:00,  1.06s/it]\n",
            "                 Class     Images  Instances      Box(P          R      mAP50  mAP50-95): 100% 2/2 [00:01<00:00,  1.36it/s]\n",
            "                   all         42        472      0.734      0.487        0.6      0.376\n",
            "\n",
            "      Epoch    GPU_mem   box_loss   cls_loss   dfl_loss  Instances       Size\n",
            "      25/25       6.6G      1.082     0.7488      1.019         26        800: 100% 263/263 [04:37<00:00,  1.06s/it]\n",
            "                 Class     Images  Instances      Box(P          R      mAP50  mAP50-95): 100% 2/2 [00:01<00:00,  1.64it/s]\n",
            "                   all         42        472      0.782      0.469      0.601      0.376\n",
            "\n",
            "25 epochs completed in 2.012 hours.\n",
            "Optimizer stripped from runs/detect/train/weights/last.pt, 22.5MB\n",
            "Optimizer stripped from runs/detect/train/weights/best.pt, 22.5MB\n",
            "\n",
            "Validating runs/detect/train/weights/best.pt...\n",
            "Ultralytics YOLOv8.0.196 🚀 Python-3.10.12 torch-2.3.0+cu121 CUDA:0 (Tesla T4, 15102MiB)\n",
            "Model summary (fused): 168 layers, 11136807 parameters, 0 gradients, 28.5 GFLOPs\n",
            "                 Class     Images  Instances      Box(P          R      mAP50  mAP50-95): 100% 2/2 [00:00<00:00,  2.38it/s]\n",
            "                   all         42        472      0.651      0.575      0.666      0.394\n",
            "                 truck         42         31      0.668      0.806      0.856      0.688\n",
            "            tree_trunk         42         53      0.582      0.698      0.674      0.346\n",
            "          traffic_sign         42         13      0.483      0.769      0.705      0.416\n",
            "         traffic_light         42          2      0.038     0.0761      0.127     0.0127\n",
            "                  stop         42          1          1          0      0.497      0.249\n",
            "          potted_plant         42         21      0.464      0.524      0.474      0.231\n",
            "                  pole         42         39      0.479      0.543      0.575      0.361\n",
            "                person         42         50      0.852       0.78      0.875      0.532\n",
            "       movable_signage         42         30      0.581        0.7      0.678      0.445\n",
            "            motorcycle         42          6      0.655      0.833       0.83      0.515\n",
            "          fire_hydrant         42          1      0.873          1      0.995      0.298\n",
            "                 chair         42          5      0.605      0.614      0.776       0.57\n",
            "               carrier         42          1          1          0          0          0\n",
            "                   car         42        186      0.769      0.931      0.945      0.737\n",
            "                   bus         42          2      0.576          1      0.995      0.509\n",
            "               bollard         42         23      0.522      0.217      0.255      0.171\n",
            "               bicycle         42          7      0.564      0.857      0.741      0.514\n",
            "             barricade         42          1          1          0      0.995      0.497\n",
            "Speed: 0.2ms preprocess, 5.1ms inference, 0.0ms loss, 1.2ms postprocess per image\n",
            "Results saved to \u001b[1mruns/detect/train\u001b[0m\n",
            "💡 Learn more at https://docs.ultralytics.com/modes/train\n"
          ]
        }
      ]
    },
    {
      "cell_type": "markdown",
      "source": [
        "#### Val"
      ],
      "metadata": {
        "id": "b0ELxaQYAa_o"
      }
    },
    {
      "cell_type": "code",
      "source": [
        "%pwd"
      ],
      "metadata": {
        "colab": {
          "base_uri": "https://localhost:8080/",
          "height": 35
        },
        "id": "-NqW8aSqAe8E",
        "outputId": "851df1ae-6b96-4322-f0c4-5aaa0282b438"
      },
      "execution_count": null,
      "outputs": [
        {
          "output_type": "execute_result",
          "data": {
            "text/plain": [
              "'/content/drive/MyDrive/oss_final_project/oss_final_project2'"
            ],
            "application/vnd.google.colaboratory.intrinsic+json": {
              "type": "string"
            }
          },
          "metadata": {},
          "execution_count": 16
        }
      ]
    },
    {
      "cell_type": "code",
      "source": [
        "!yolo task=detect mode=val model=/content/drive/MyDrive/oss_final_project/oss_final_project2/runs/detect/train/weights/best.pt data=./data.yaml"
      ],
      "metadata": {
        "colab": {
          "base_uri": "https://localhost:8080/"
        },
        "id": "dTr2wqxaAc7k",
        "outputId": "5a77b8c9-4306-418e-c816-cffe89609c02"
      },
      "execution_count": null,
      "outputs": [
        {
          "output_type": "stream",
          "name": "stdout",
          "text": [
            "Ultralytics YOLOv8.0.196 🚀 Python-3.10.12 torch-2.3.0+cu121 CUDA:0 (Tesla T4, 15102MiB)\n",
            "Model summary (fused): 168 layers, 11136807 parameters, 0 gradients, 28.5 GFLOPs\n",
            "\u001b[34m\u001b[1mval: \u001b[0mScanning /content/drive/MyDrive/oss_final_project/oss_final_project2/my_data/val/labels.cache... 42 images, 0 backgrounds, 0 corrupt: 100% 42/42 [00:00<?, ?it/s]\n",
            "                 Class     Images  Instances      Box(P          R      mAP50  mAP50-95):   0% 0/3 [00:00<?, ?it/s]WARNING ⚠️ NMS time limit 1.300s exceeded\n",
            "                 Class     Images  Instances      Box(P          R      mAP50  mAP50-95): 100% 3/3 [00:04<00:00,  1.62s/it]\n",
            "                   all         42        472       0.57      0.333      0.374      0.235\n",
            "                 truck         42         31      0.507      0.387      0.381      0.328\n",
            "            tree_trunk         42         53      0.472      0.415      0.391      0.199\n",
            "          traffic_sign         42         13      0.329      0.308      0.297       0.23\n",
            "         traffic_light         42          2          1          0          0          0\n",
            "                  stop         42          1      0.341      0.683      0.497      0.249\n",
            "          potted_plant         42         21      0.296      0.286      0.184     0.0686\n",
            "                  pole         42         39      0.429       0.41      0.342       0.19\n",
            "                person         42         50      0.892       0.42      0.469      0.272\n",
            "       movable_signage         42         30      0.592      0.633      0.622      0.412\n",
            "            motorcycle         42          6      0.541      0.667      0.741      0.455\n",
            "          fire_hydrant         42          1          1          0          0          0\n",
            "                 chair         42          5      0.362        0.2      0.285      0.204\n",
            "               carrier         42          1          1          0          0          0\n",
            "                   car         42        186      0.672      0.715      0.729      0.571\n",
            "                   bus         42          2      0.357        0.5      0.502      0.401\n",
            "               bollard         42         23      0.282      0.087     0.0906     0.0533\n",
            "               bicycle         42          7      0.196      0.286      0.206      0.102\n",
            "             barricade         42          1          1          0      0.995      0.497\n",
            "Speed: 3.0ms preprocess, 25.4ms inference, 0.0ms loss, 35.2ms postprocess per image\n",
            "Results saved to \u001b[1mruns/detect/val\u001b[0m\n",
            "💡 Learn more at https://docs.ultralytics.com/modes/val\n"
          ]
        }
      ]
    },
    {
      "cell_type": "markdown",
      "source": [
        "####Test"
      ],
      "metadata": {
        "id": "lvWWmowRAzo7"
      }
    },
    {
      "cell_type": "code",
      "source": [
        "!yolo task=detect mode=predict model=/content/drive/MyDrive/oss_final_project/oss_final_project2/runs/detect/train/weights/best.pt conf=0.25 source=./my_data/test/images save=True"
      ],
      "metadata": {
        "colab": {
          "base_uri": "https://localhost:8080/"
        },
        "id": "BYbntN6SA0-D",
        "outputId": "bb9f6f2a-ccba-4a22-d163-46f12c5f1135"
      },
      "execution_count": null,
      "outputs": [
        {
          "output_type": "stream",
          "name": "stdout",
          "text": [
            "Ultralytics YOLOv8.0.196 🚀 Python-3.10.12 torch-2.3.0+cu121 CUDA:0 (Tesla T4, 15102MiB)\n",
            "Model summary (fused): 168 layers, 11136807 parameters, 0 gradients, 28.5 GFLOPs\n",
            "\n",
            "WARNING ⚠️ NMS time limit 0.550s exceeded\n",
            "image 1/42 /content/drive/MyDrive/oss_final_project/oss_final_project2/my_data/test/images/MP_SEL_004358.jpg: 480x800 1 tree_trunk, 1 pole, 3 cars, 7 bollards, 67.6ms\n",
            "image 2/42 /content/drive/MyDrive/oss_final_project/oss_final_project2/my_data/test/images/MP_SEL_004359.jpg: 480x800 2 trucks, 2 traffic_signs, 4 traffic_lights, 2 poles, 8 cars, 1 bollard, 7 bicycles, 15.7ms\n",
            "image 3/42 /content/drive/MyDrive/oss_final_project/oss_final_project2/my_data/test/images/MP_SEL_004360.jpg: 480x800 2 traffic_signs, 1 traffic_light, 2 poles, 3 cars, 15.7ms\n",
            "image 4/42 /content/drive/MyDrive/oss_final_project/oss_final_project2/my_data/test/images/MP_SEL_004361.jpg: 480x800 1 tree_trunk, 1 stop, 2 poles, 3 persons, 1 movable_signage, 2 cars, 1 bus, 2 bollards, 4 bicycles, 15.8ms\n",
            "image 5/42 /content/drive/MyDrive/oss_final_project/oss_final_project2/my_data/test/images/MP_SEL_004362.jpg: 480x800 1 truck, 1 tree_trunk, 2 poles, 2 persons, 3 cars, 15.7ms\n",
            "image 6/42 /content/drive/MyDrive/oss_final_project/oss_final_project2/my_data/test/images/MP_SEL_004363.jpg: 480x800 1 truck, 5 cars, 15.7ms\n",
            "image 7/42 /content/drive/MyDrive/oss_final_project/oss_final_project2/my_data/test/images/MP_SEL_004364.jpg: 480x800 2 poles, 2 persons, 3 movable_signages, 1 motorcycle, 3 cars, 15.7ms\n",
            "image 8/42 /content/drive/MyDrive/oss_final_project/oss_final_project2/my_data/test/images/MP_SEL_004365.jpg: 480x800 1 pole, 3 persons, 1 movable_signage, 3 cars, 1 bollard, 15.8ms\n",
            "image 9/42 /content/drive/MyDrive/oss_final_project/oss_final_project2/my_data/test/images/MP_SEL_004366.jpg: 480x800 2 trucks, 1 traffic_sign, 2 poles, 2 persons, 6 cars, 16.8ms\n",
            "image 10/42 /content/drive/MyDrive/oss_final_project/oss_final_project2/my_data/test/images/MP_SEL_004367.jpg: 480x800 1 movable_signage, 15.8ms\n",
            "image 11/42 /content/drive/MyDrive/oss_final_project/oss_final_project2/my_data/test/images/MP_SEL_004368.jpg: 480x800 2 trucks, 1 traffic_sign, 1 traffic_light, 3 poles, 3 cars, 1 bus, 4 bollards, 15.8ms\n",
            "image 12/42 /content/drive/MyDrive/oss_final_project/oss_final_project2/my_data/test/images/MP_SEL_004369.jpg: 480x800 8 tree_trunks, 2 movable_signages, 3 bicycles, 15.8ms\n",
            "image 13/42 /content/drive/MyDrive/oss_final_project/oss_final_project2/my_data/test/images/MP_SEL_004370.jpg: 480x800 1 truck, 2 traffic_lights, 4 poles, 4 cars, 15.8ms\n",
            "image 14/42 /content/drive/MyDrive/oss_final_project/oss_final_project2/my_data/test/images/MP_SEL_004371.jpg: 480x800 1 pole, 2 persons, 15.7ms\n",
            "image 15/42 /content/drive/MyDrive/oss_final_project/oss_final_project2/my_data/test/images/MP_SEL_004372.jpg: 480x800 4 tree_trunks, 1 stop, 1 person, 1 car, 15.7ms\n",
            "image 16/42 /content/drive/MyDrive/oss_final_project/oss_final_project2/my_data/test/images/MP_SEL_004374.jpg: 480x800 1 tree_trunk, 1 car, 15.7ms\n",
            "image 17/42 /content/drive/MyDrive/oss_final_project/oss_final_project2/my_data/test/images/MP_SEL_004375.jpg: 480x800 1 tree_trunk, 2 persons, 1 motorcycle, 1 car, 15.7ms\n",
            "image 18/42 /content/drive/MyDrive/oss_final_project/oss_final_project2/my_data/test/images/MP_SEL_004376.jpg: 480x800 1 tree_trunk, 1 stop, 1 pole, 3 persons, 1 motorcycle, 2 cars, 4 bicycles, 15.8ms\n",
            "image 19/42 /content/drive/MyDrive/oss_final_project/oss_final_project2/my_data/test/images/MP_SEL_004377.jpg: 480x800 1 tree_trunk, 1 pole, 15.7ms\n",
            "image 20/42 /content/drive/MyDrive/oss_final_project/oss_final_project2/my_data/test/images/MP_SEL_004378.jpg: 480x800 7 tree_trunks, 1 pole, 1 movable_signage, 7 cars, 15.8ms\n",
            "image 21/42 /content/drive/MyDrive/oss_final_project/oss_final_project2/my_data/test/images/MP_SEL_004379.jpg: 480x800 3 tree_trunks, 2 traffic_signs, 1 pole, 3 persons, 4 cars, 1 bollard, 1 bench, 15.7ms\n",
            "image 22/42 /content/drive/MyDrive/oss_final_project/oss_final_project2/my_data/test/images/MP_SEL_004380.jpg: 480x800 1 movable_signage, 3 cars, 15.7ms\n",
            "image 23/42 /content/drive/MyDrive/oss_final_project/oss_final_project2/my_data/test/images/MP_SEL_004381.jpg: 480x800 1 truck, 5 tree_trunks, 9 cars, 2 bollards, 1 bench, 15.8ms\n",
            "image 24/42 /content/drive/MyDrive/oss_final_project/oss_final_project2/my_data/test/images/MP_SEL_004382.jpg: 480x800 4 tree_trunks, 2 persons, 5 cars, 15.7ms\n",
            "image 25/42 /content/drive/MyDrive/oss_final_project/oss_final_project2/my_data/test/images/MP_SEL_004383.jpg: 480x800 2 trucks, 2 tree_trunks, 9 cars, 1 bench, 15.8ms\n",
            "image 26/42 /content/drive/MyDrive/oss_final_project/oss_final_project2/my_data/test/images/MP_SEL_004384.jpg: 480x800 9 tree_trunks, 4 cars, 1 bollard, 15.8ms\n",
            "image 27/42 /content/drive/MyDrive/oss_final_project/oss_final_project2/my_data/test/images/MP_SEL_004385.jpg: 480x800 4 tree_trunks, 10 cars, 2 bollards, 15.7ms\n",
            "image 28/42 /content/drive/MyDrive/oss_final_project/oss_final_project2/my_data/test/images/MP_SEL_004386.jpg: 480x800 3 trucks, 6 tree_trunks, 7 cars, 15.8ms\n",
            "image 29/42 /content/drive/MyDrive/oss_final_project/oss_final_project2/my_data/test/images/MP_SEL_004387.jpg: 480x800 2 tree_trunks, 7 cars, 15.7ms\n",
            "image 30/42 /content/drive/MyDrive/oss_final_project/oss_final_project2/my_data/test/images/MP_SEL_004388.jpg: 480x800 2 trucks, 11 cars, 1 bicycle, 15.8ms\n",
            "image 31/42 /content/drive/MyDrive/oss_final_project/oss_final_project2/my_data/test/images/MP_SEL_004389.jpg: 480x800 1 truck, 9 tree_trunks, 4 cars, 15.8ms\n",
            "image 32/42 /content/drive/MyDrive/oss_final_project/oss_final_project2/my_data/test/images/MP_SEL_004390.jpg: 480x800 3 trucks, 4 tree_trunks, 2 cars, 15.8ms\n",
            "image 33/42 /content/drive/MyDrive/oss_final_project/oss_final_project2/my_data/test/images/MP_SEL_004391.jpg: 480x800 1 truck, 3 tree_trunks, 7 cars, 15.7ms\n",
            "image 34/42 /content/drive/MyDrive/oss_final_project/oss_final_project2/my_data/test/images/MP_SEL_004392.jpg: 480x800 5 tree_trunks, 2 traffic_signs, 1 pole, 1 person, 1 movable_signage, 6 cars, 15.7ms\n",
            "image 35/42 /content/drive/MyDrive/oss_final_project/oss_final_project2/my_data/test/images/MP_SEL_004393.jpg: 480x800 5 tree_trunks, 1 traffic_sign, 1 pole, 5 cars, 15.7ms\n",
            "image 36/42 /content/drive/MyDrive/oss_final_project/oss_final_project2/my_data/test/images/MP_SEL_004394.jpg: 480x800 5 tree_trunks, 1 pole, 4 cars, 15.7ms\n",
            "image 37/42 /content/drive/MyDrive/oss_final_project/oss_final_project2/my_data/test/images/MP_SEL_004395.jpg: 480x800 1 truck, 3 tree_trunks, 2 stops, 2 cars, 15.7ms\n",
            "image 38/42 /content/drive/MyDrive/oss_final_project/oss_final_project2/my_data/test/images/MP_SEL_004396.jpg: 480x800 4 tree_trunks, 2 traffic_signs, 3 traffic_lights, 3 poles, 1 car, 1 barricade, 15.7ms\n",
            "image 39/42 /content/drive/MyDrive/oss_final_project/oss_final_project2/my_data/test/images/MP_SEL_004397.jpg: 480x800 2 tree_trunks, 1 pole, 1 car, 6 bollards, 15.8ms\n",
            "image 40/42 /content/drive/MyDrive/oss_final_project/oss_final_project2/my_data/test/images/MP_SEL_004398.jpg: 480x800 1 tree_trunk, 1 traffic_light, 1 movable_signage, 1 car, 4 bollards, 15.7ms\n",
            "image 41/42 /content/drive/MyDrive/oss_final_project/oss_final_project2/my_data/test/images/MP_SEL_004399.jpg: 480x800 3 tree_trunks, 2 traffic_signs, 2 poles, 2 cars, 15.7ms\n",
            "image 42/42 /content/drive/MyDrive/oss_final_project/oss_final_project2/my_data/test/images/MP_SEL_004400.jpg: 480x800 3 tree_trunks, 1 traffic_sign, 1 pole, 4 cars, 1 bus, 15.7ms\n",
            "Speed: 3.4ms preprocess, 17.0ms inference, 15.9ms postprocess per image at shape (1, 3, 480, 800)\n",
            "Results saved to \u001b[1mruns/detect/predict\u001b[0m\n",
            "💡 Learn more at https://docs.ultralytics.com/modes/predict\n"
          ]
        }
      ]
    },
    {
      "cell_type": "markdown",
      "source": [
        "#### onnx로 내보내기"
      ],
      "metadata": {
        "id": "QAYFOE1jvjA5"
      }
    },
    {
      "cell_type": "code",
      "source": [
        "!yolo export model=/content/drive/MyDrive/oss_final_project/oss_final_project2/runs/detect/train/weights/best.pt format=onnx  # export custom trained model"
      ],
      "metadata": {
        "colab": {
          "base_uri": "https://localhost:8080/"
        },
        "id": "AnUloF2yvmsX",
        "outputId": "c9813891-5f51-4f08-fdb4-6c71f68c9029"
      },
      "execution_count": null,
      "outputs": [
        {
          "output_type": "stream",
          "name": "stdout",
          "text": [
            "Ultralytics YOLOv8.0.196 🚀 Python-3.10.12 torch-2.3.0+cu121 CPU (Intel Xeon 2.00GHz)\n",
            "Model summary (fused): 168 layers, 11136807 parameters, 0 gradients, 28.5 GFLOPs\n",
            "\n",
            "\u001b[34m\u001b[1mPyTorch:\u001b[0m starting from '/content/drive/MyDrive/oss_final_project/oss_final_project2/runs/detect/train/weights/best.pt' with input shape (1, 3, 800, 800) BCHW and output shape(s) (1, 33, 13125) (21.5 MB)\n",
            "\u001b[31m\u001b[1mrequirements:\u001b[0m Ultralytics requirement ['onnx>=1.12.0'] not found, attempting AutoUpdate...\n",
            "Collecting onnx>=1.12.0\n",
            "  Downloading onnx-1.16.1-cp310-cp310-manylinux_2_17_x86_64.manylinux2014_x86_64.whl (15.9 MB)\n",
            "     ━━━━━━━━━━━━━━━━━━━━━━━━━━━━━━━━━━━━━━━━ 15.9/15.9 MB 109.9 MB/s eta 0:00:00\n",
            "Requirement already satisfied: numpy>=1.20 in /usr/local/lib/python3.10/dist-packages (from onnx>=1.12.0) (1.25.2)\n",
            "Requirement already satisfied: protobuf>=3.20.2 in /usr/local/lib/python3.10/dist-packages (from onnx>=1.12.0) (3.20.3)\n",
            "Installing collected packages: onnx\n",
            "Successfully installed onnx-1.16.1\n",
            "\n",
            "\u001b[31m\u001b[1mrequirements:\u001b[0m AutoUpdate success ✅ 9.8s, installed 1 package: ['onnx>=1.12.0']\n",
            "\u001b[31m\u001b[1mrequirements:\u001b[0m ⚠️ \u001b[1mRestart runtime or rerun command for updates to take effect\u001b[0m\n",
            "\n",
            "\n",
            "\u001b[34m\u001b[1mONNX:\u001b[0m starting export with onnx 1.16.1 opset 17...\n",
            "\u001b[34m\u001b[1mONNX:\u001b[0m export success ✅ 11.4s, saved as '/content/drive/MyDrive/oss_final_project/oss_final_project2/runs/detect/train/weights/best.onnx' (42.8 MB)\n",
            "\n",
            "Export complete (14.5s)\n",
            "Results saved to \u001b[1m/content/drive/MyDrive/oss_final_project/oss_final_project2/runs/detect/train/weights\u001b[0m\n",
            "Predict:         yolo predict task=detect model=/content/drive/MyDrive/oss_final_project/oss_final_project2/runs/detect/train/weights/best.onnx imgsz=800  \n",
            "Validate:        yolo val task=detect model=/content/drive/MyDrive/oss_final_project/oss_final_project2/runs/detect/train/weights/best.onnx imgsz=800 data=./data.yaml  \n",
            "Visualize:       https://netron.app\n",
            "💡 Learn more at https://docs.ultralytics.com/modes/export\n"
          ]
        }
      ]
    },
    {
      "cell_type": "markdown",
      "source": [
        "#### 코드 html로 저장"
      ],
      "metadata": {
        "id": "ahV2xQz9F0mJ"
      }
    },
    {
      "cell_type": "code",
      "source": [
        "!jupyter nbconvert --to html /content/drive/MyDrive/oss_final_project/oss_final_project2/oss_project2"
      ],
      "metadata": {
        "colab": {
          "base_uri": "https://localhost:8080/"
        },
        "id": "fPb0lzTDBtUh",
        "outputId": "e1dca10f-c847-4646-b84d-16505df4be4d"
      },
      "execution_count": null,
      "outputs": [
        {
          "output_type": "stream",
          "name": "stdout",
          "text": [
            "[NbConvertApp] Converting notebook /content/drive/MyDrive/oss_final_project/oss_final_project2/oss_project2 to html\n",
            "[NbConvertApp] Writing 2223038 bytes to /content/drive/MyDrive/oss_final_project/oss_final_project2/oss_project.html\n"
          ]
        }
      ]
    }
  ]
}