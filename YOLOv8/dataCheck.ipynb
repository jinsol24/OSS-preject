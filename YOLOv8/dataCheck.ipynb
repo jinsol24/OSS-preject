{
  "nbformat": 4,
  "nbformat_minor": 0,
  "metadata": {
    "colab": {
      "provenance": [],
      "gpuType": "T4"
    },
    "kernelspec": {
      "name": "python3",
      "display_name": "Python 3"
    },
    "language_info": {
      "name": "python"
    },
    "accelerator": "GPU"
  },
  "cells": [
    {
      "cell_type": "markdown",
      "source": [
        "## 구글 드라이브에서 데이터 불러옴"
      ],
      "metadata": {
        "id": "GgC7s5FAwv1F"
      }
    },
    {
      "cell_type": "code",
      "source": [
        "# 하지 말 것!\n",
        "from google.colab import drive\n",
        "drive.mount('/content/drive')"
      ],
      "metadata": {
        "colab": {
          "base_uri": "https://localhost:8080/"
        },
        "id": "rXSk7vQi3Weq",
        "outputId": "577a8a4c-33ce-4097-a9af-6d967c0e72ba"
      },
      "execution_count": null,
      "outputs": [
        {
          "output_type": "stream",
          "name": "stdout",
          "text": [
            "Mounted at /content/drive\n"
          ]
        }
      ]
    },
    {
      "cell_type": "markdown",
      "source": [
        "## 폴더에 있는 파일 개수 세기(라벨과 이미지 수가 잘 만들어졌는지 확인)"
      ],
      "metadata": {
        "id": "w5ns19PRb6JI"
      }
    },
    {
      "cell_type": "code",
      "source": [
        "import os\n",
        "\n",
        "img_file_count_list = []\n",
        "lab_file_count_list = []\n",
        "\n",
        "for i in range(1, 41):\n",
        "  img_folder_path = f\"/content/drive/MyDrive/oss_final_project/oss_final_project2/images/Bbox_{i:04d}\"\n",
        "  img_file_list = os.listdir(img_folder_path)\n",
        "  img_file_count = len(img_file_list)\n",
        "  img_file_count_list.append(img_file_count)\n",
        "\n",
        "  lab_folder_path = f\"/content/drive/MyDrive/oss_final_project/oss_final_project2/labels/Bbox_{i:04d}\"\n",
        "  lab_file_list = os.listdir(lab_folder_path)\n",
        "  lab_file_count = len(lab_file_list)\n",
        "  lab_file_count_list.append(lab_file_count)\n",
        "\n",
        "print(img_file_count_list)\n",
        "\n",
        "# 모든 인덱스의 값을 -1\n",
        "lab_file_count_list = [x - 1 for x in lab_file_count_list]\n",
        "\n",
        "print(lab_file_count_list)\n",
        "\n",
        "result_list = [a - b for a, b in zip(img_file_count_list, lab_file_count_list)]\n",
        "\n",
        "print(result_list)"
      ],
      "metadata": {
        "colab": {
          "base_uri": "https://localhost:8080/"
        },
        "id": "8tstXuIr4nCJ",
        "outputId": "c32844e9-49f9-444d-87a0-7274ff53e9fc"
      },
      "execution_count": null,
      "outputs": [
        {
          "output_type": "stream",
          "name": "stdout",
          "text": [
            "[0, 0, 0, 0, 0, 0, 0, 0, 0, 0, 0, 0, 0, 0, 0, 0, 0, 0, 0, 0, 0, 0, 0, 0, 0, 0, 0, 0, 0, 0, 0, 0, 0, 0, 0, 0, 0, 0, 0, 0]\n",
            "[0, 0, 0, 0, 0, 0, 0, 0, 0, 0, 0, 0, 0, 0, 0, 0, 0, 0, 0, 0, 0, 0, 0, 0, 0, 0, 0, 0, 0, 0, 0, 0, 0, 0, 0, 0, 0, 0, 0, 0]\n",
            "[0, 0, 0, 0, 0, 0, 0, 0, 0, 0, 0, 0, 0, 0, 0, 0, 0, 0, 0, 0, 0, 0, 0, 0, 0, 0, 0, 0, 0, 0, 0, 0, 0, 0, 0, 0, 0, 0, 0, 0]\n"
          ]
        }
      ]
    },
    {
      "cell_type": "code",
      "source": [
        "folder_path = \"/content/drive/MyDrive/oss_final_project/oss_final_project2/t_my_data/t_train/t_labels\"\n",
        "file_list = os.listdir(folder_path)\n",
        "file_count = len(file_list)\n",
        "print(file_count)"
      ],
      "metadata": {
        "colab": {
          "base_uri": "https://localhost:8080/"
        },
        "id": "b4fX_gW_oLY4",
        "outputId": "64e84cc6-2e0c-4ce5-fcb0-2adbe10926d1"
      },
      "execution_count": null,
      "outputs": [
        {
          "output_type": "stream",
          "name": "stdout",
          "text": [
            "4196\n"
          ]
        }
      ]
    }
  ]
}