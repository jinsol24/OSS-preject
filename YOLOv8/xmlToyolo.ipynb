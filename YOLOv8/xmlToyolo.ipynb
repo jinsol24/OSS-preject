{
  "nbformat": 4,
  "nbformat_minor": 0,
  "metadata": {
    "colab": {
      "provenance": [],
      "gpuType": "T4"
    },
    "kernelspec": {
      "name": "python3",
      "display_name": "Python 3"
    },
    "language_info": {
      "name": "python"
    },
    "accelerator": "GPU"
  },
  "cells": [
    {
      "cell_type": "markdown",
      "source": [
        "## xml파일에 있는 값들을 yolo format으로 변경해 저장"
      ],
      "metadata": {
        "id": "YUxgtaglwyr3"
      }
    },
    {
      "cell_type": "code",
      "source": [
        "import xml.etree.ElementTree as ET\n",
        "import os\n",
        "import shutil"
      ],
      "metadata": {
        "id": "AHJVw0qs3iOI"
      },
      "execution_count": null,
      "outputs": []
    },
    {
      "cell_type": "code",
      "source": [
        "import os\n",
        "import xml.etree.ElementTree as ET\n",
        "\n",
        "# Define the class mapping\n",
        "class_mapping = {\n",
        "    \"traffic_light_controller\": 0,\n",
        "    \"power_controller\": 1,\n",
        "    \"wheelchair\": 2,\n",
        "    \"truck\": 3,\n",
        "    \"tree_trunk\": 4,\n",
        "    \"traffic_sign\": 5,\n",
        "    \"traffic_light\": 6,\n",
        "    \"table\": 7,\n",
        "    \"stroller\": 8,\n",
        "    \"stop\": 9,\n",
        "    \"scooter\": 10,\n",
        "    \"potted_plant\": 11,\n",
        "    \"pole\": 12,\n",
        "    \"person\": 13,\n",
        "    \"parking_meter\": 14,\n",
        "    \"movable_signage\": 15,\n",
        "    \"motorcycle\": 16,\n",
        "    \"kiosk\": 17,\n",
        "    \"fire_hydrant\": 18,\n",
        "    \"dog\": 19,\n",
        "    \"chair\": 20,\n",
        "    \"cat\": 21,\n",
        "    \"carrier\": 22,\n",
        "    \"car\": 23,\n",
        "    \"bus\": 24,\n",
        "    \"bollard\": 25,\n",
        "    \"bicycle\": 26,\n",
        "    \"bench\": 27,\n",
        "    \"barricade\": 28\n",
        "}\n",
        "\n",
        "# Function to convert XML annotations to YOLO format\n",
        "def convert_to_yolo(xml_file, output_dir):\n",
        "    tree = ET.parse(xml_file)\n",
        "    root = tree.getroot()\n",
        "\n",
        "    for image in root.findall('image'):\n",
        "        img_width = int(image.get('width'))\n",
        "        img_height = int(image.get('height'))\n",
        "        img_name = image.get('name')\n",
        "        yolo_annotations = []\n",
        "\n",
        "        for box in image.findall('box'):\n",
        "            label = box.get('label')\n",
        "            class_id = class_mapping[label]\n",
        "\n",
        "            xtl = float(box.get('xtl'))\n",
        "            ytl = float(box.get('ytl'))\n",
        "            xbr = float(box.get('xbr'))\n",
        "            ybr = float(box.get('ybr'))\n",
        "\n",
        "            center_x = (xtl + xbr) / 2 / img_width\n",
        "            center_y = (ytl + ybr) / 2 / img_height\n",
        "            width = (xbr - xtl) / img_width\n",
        "            height = (ybr - ytl) / img_height\n",
        "\n",
        "            yolo_annotations.append(f\"{class_id} {center_x:.6f} {center_y:.6f} {width:.6f} {height:.6f}\")\n",
        "\n",
        "        # Save the annotations to a txt file in the specified output directory\n",
        "        txt_file_name = os.path.join(output_dir, os.path.splitext(img_name)[0] + \".txt\")\n",
        "        with open(txt_file_name, 'w') as f:\n",
        "            for annotation in yolo_annotations:\n",
        "                f.write(f\"{annotation}\\n\")\n",
        "\n",
        "    print(\"Conversion completed!\")\n",
        "\n",
        "# File paths\n",
        "xml_file = '/content/drive/MyDrive/oss_final_project/oss_final_project2/labels/Bbox_0040/0624_01.xml'\n",
        "output_dir = '/content/drive/MyDrive/oss_final_project/oss_final_project2/labels/Bbox_0040'\n",
        "\n",
        "# Convert and save the annotations\n",
        "convert_to_yolo(xml_file, output_dir)\n"
      ],
      "metadata": {
        "colab": {
          "base_uri": "https://localhost:8080/"
        },
        "id": "kyhQNsYw6Lrg",
        "outputId": "f90ca4a6-b62b-435e-df46-35c5a5bc49ac"
      },
      "execution_count": null,
      "outputs": [
        {
          "output_type": "stream",
          "name": "stdout",
          "text": [
            "Conversion completed!\n"
          ]
        }
      ]
    }
  ]
}